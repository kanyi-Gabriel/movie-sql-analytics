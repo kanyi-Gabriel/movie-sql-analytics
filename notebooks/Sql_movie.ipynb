{
 "cells": [
  {
   "cell_type": "code",
   "execution_count": 1,
   "id": "682582f6-0f73-4460-a56f-016c5d22b813",
   "metadata": {},
   "outputs": [],
   "source": [
    "%reload_ext sql"
   ]
  },
  {
   "cell_type": "code",
   "execution_count": 2,
   "id": "c5ab70f7-657c-4da1-aefc-520195ad8ad1",
   "metadata": {},
   "outputs": [],
   "source": [
    "%sql sqlite:///C:\\Users\\User\\Desktop\\sql/TMDB-a-4006.db"
   ]
  },
  {
   "cell_type": "code",
   "execution_count": 3,
   "id": "3b6017b8-c270-4bdb-b2fc-17d4d0d05f07",
   "metadata": {
    "scrolled": true
   },
   "outputs": [
    {
     "name": "stdout",
     "output_type": "stream",
     "text": [
      " * sqlite:///C:\\Users\\User\\Desktop\\sql/TMDB-a-4006.db\n",
      "Done.\n"
     ]
    },
    {
     "data": {
      "text/html": [
       "<table>\n",
       "    <tr>\n",
       "        <th>type</th>\n",
       "        <th>name</th>\n",
       "        <th>tbl_name</th>\n",
       "        <th>rootpage</th>\n",
       "        <th>sql</th>\n",
       "    </tr>\n",
       "    <tr>\n",
       "        <td>table</td>\n",
       "        <td>actors</td>\n",
       "        <td>actors</td>\n",
       "        <td>2</td>\n",
       "        <td>CREATE TABLE `actors` (<br>  `actor_id` integer NOT NULL<br>,  `actor_name` varchar(100) DEFAULT NULL<br>,  `gender` integer DEFAULT NULL<br>,  PRIMARY KEY (`actor_id`)<br>)</td>\n",
       "    </tr>\n",
       "    <tr>\n",
       "        <td>table</td>\n",
       "        <td>casts</td>\n",
       "        <td>casts</td>\n",
       "        <td>320</td>\n",
       "        <td>CREATE TABLE `casts` (<br>  `movie_id` integer NOT NULL<br>,  `actor_id` integer NOT NULL<br>,  `characters` varchar(500) NOT NULL<br>,  PRIMARY KEY (`movie_id`,`actor_id`,`characters`)<br>,  CONSTRAINT `FK__Casts__actor_id__656C112C` FOREIGN KEY (`actor_id`) REFERENCES `actors` (`actor_id`)<br>,  CONSTRAINT `FK__Casts__movie_id__6477ECF3` FOREIGN KEY (`movie_id`) REFERENCES `movies` (`movie_id`)<br>)</td>\n",
       "    </tr>\n",
       "    <tr>\n",
       "        <td>index</td>\n",
       "        <td>sqlite_autoindex_casts_1</td>\n",
       "        <td>casts</td>\n",
       "        <td>321</td>\n",
       "        <td>None</td>\n",
       "    </tr>\n",
       "    <tr>\n",
       "        <td>table</td>\n",
       "        <td>genremap</td>\n",
       "        <td>genremap</td>\n",
       "        <td>1903</td>\n",
       "        <td>CREATE TABLE `genremap` (<br>  `movie_id` integer NOT NULL<br>,  `genre_id` integer NOT NULL<br>,  PRIMARY KEY (`movie_id`,`genre_id`)<br>,  CONSTRAINT `FK__GenreMap__genre___4E88ABD4` FOREIGN KEY (`genre_id`) REFERENCES `genres` (`genre_id`)<br>,  CONSTRAINT `FK__GenreMap__movie___4D94879B` FOREIGN KEY (`movie_id`) REFERENCES `movies` (`movie_id`)<br>)</td>\n",
       "    </tr>\n",
       "    <tr>\n",
       "        <td>index</td>\n",
       "        <td>sqlite_autoindex_genremap_1</td>\n",
       "        <td>genremap</td>\n",
       "        <td>1904</td>\n",
       "        <td>None</td>\n",
       "    </tr>\n",
       "    <tr>\n",
       "        <td>table</td>\n",
       "        <td>genres</td>\n",
       "        <td>genres</td>\n",
       "        <td>1982</td>\n",
       "        <td>CREATE TABLE `genres` (<br>  `genre_id` integer NOT NULL<br>,  `genre_name` varchar(50) DEFAULT NULL<br>,  PRIMARY KEY (`genre_id`)<br>)</td>\n",
       "    </tr>\n",
       "    <tr>\n",
       "        <td>table</td>\n",
       "        <td>keywordmap</td>\n",
       "        <td>keywordmap</td>\n",
       "        <td>1983</td>\n",
       "        <td>CREATE TABLE `keywordmap` (<br>  `movie_id` integer NOT NULL<br>,  `keyword_id` integer NOT NULL<br>,  PRIMARY KEY (`movie_id`,`keyword_id`)<br>,  CONSTRAINT `FK__KeywordMa__keywo__5441852A` FOREIGN KEY (`keyword_id`) REFERENCES `keywords` (`keyword_id`)<br>,  CONSTRAINT `FK__KeywordMa__movie__534D60F1` FOREIGN KEY (`movie_id`) REFERENCES `movies` (`movie_id`)<br>)</td>\n",
       "    </tr>\n",
       "    <tr>\n",
       "        <td>index</td>\n",
       "        <td>sqlite_autoindex_keywordmap_1</td>\n",
       "        <td>keywordmap</td>\n",
       "        <td>1984</td>\n",
       "        <td>None</td>\n",
       "    </tr>\n",
       "    <tr>\n",
       "        <td>table</td>\n",
       "        <td>keywords</td>\n",
       "        <td>keywords</td>\n",
       "        <td>2234</td>\n",
       "        <td>CREATE TABLE `keywords` (<br>  `keyword_id` integer NOT NULL<br>,  `keyword_name` varchar(500) DEFAULT NULL<br>,  PRIMARY KEY (`keyword_id`)<br>)</td>\n",
       "    </tr>\n",
       "    <tr>\n",
       "        <td>table</td>\n",
       "        <td>languagemap</td>\n",
       "        <td>languagemap</td>\n",
       "        <td>2283</td>\n",
       "        <td>CREATE TABLE `languagemap` (<br>  `movie_id` integer NOT NULL<br>,  `iso_639_1` char(2) NOT NULL<br>,  PRIMARY KEY (`movie_id`,`iso_639_1`)<br>,  CONSTRAINT `FK__LanguageM__iso_6__59FA5E80` FOREIGN KEY (`iso_639_1`) REFERENCES `languages` (`iso_639_1`)<br>,  CONSTRAINT `FK__LanguageM__movie__59063A47` FOREIGN KEY (`movie_id`) REFERENCES `movies` (`movie_id`)<br>)</td>\n",
       "    </tr>\n",
       "    <tr>\n",
       "        <td>index</td>\n",
       "        <td>sqlite_autoindex_languagemap_1</td>\n",
       "        <td>languagemap</td>\n",
       "        <td>2284</td>\n",
       "        <td>None</td>\n",
       "    </tr>\n",
       "    <tr>\n",
       "        <td>table</td>\n",
       "        <td>languages</td>\n",
       "        <td>languages</td>\n",
       "        <td>2331</td>\n",
       "        <td>CREATE TABLE `languages` (<br>  `iso_639_1` char(2) NOT NULL<br>,  `language_name` varchar(50) DEFAULT NULL<br>,  PRIMARY KEY (`iso_639_1`)<br>)</td>\n",
       "    </tr>\n",
       "    <tr>\n",
       "        <td>index</td>\n",
       "        <td>sqlite_autoindex_languages_1</td>\n",
       "        <td>languages</td>\n",
       "        <td>2332</td>\n",
       "        <td>None</td>\n",
       "    </tr>\n",
       "    <tr>\n",
       "        <td>table</td>\n",
       "        <td>movies</td>\n",
       "        <td>movies</td>\n",
       "        <td>2333</td>\n",
       "        <td>CREATE TABLE `movies` (<br>  `movie_id` integer NOT NULL<br>,  `title` varchar(500) DEFAULT NULL<br>,  `release_date` datetime(6) DEFAULT NULL<br>,  `budget` integer DEFAULT NULL<br>,  `homepage` varchar(500) DEFAULT NULL<br>,  `original_language` varchar(50) DEFAULT NULL<br>,  `original_title` varchar(500) DEFAULT NULL<br>,  `overview` varchar(5000) DEFAULT NULL<br>,  `popularity` double DEFAULT NULL<br>,  `revenue` double DEFAULT NULL<br>,  `runtime` double DEFAULT NULL<br>,  `release_status` varchar(50) DEFAULT NULL<br>,  `tagline` varchar(500) DEFAULT NULL<br>,  `vote_average` double DEFAULT NULL<br>,  `vote_count` integer DEFAULT NULL<br>,  PRIMARY KEY (`movie_id`)<br>)</td>\n",
       "    </tr>\n",
       "    <tr>\n",
       "        <td>table</td>\n",
       "        <td>oscars</td>\n",
       "        <td>oscars</td>\n",
       "        <td>2922</td>\n",
       "        <td>CREATE TABLE `oscars` (<br>  `year` varchar(10) DEFAULT NULL<br>,  `award` varchar(500) DEFAULT NULL<br>,  `winner` varchar(10) DEFAULT NULL<br>,  `name` varchar(500) DEFAULT NULL<br>,  `film` varchar(500) DEFAULT NULL<br>)</td>\n",
       "    </tr>\n",
       "    <tr>\n",
       "        <td>table</td>\n",
       "        <td>productioncompanies</td>\n",
       "        <td>productioncompanies</td>\n",
       "        <td>3127</td>\n",
       "        <td>CREATE TABLE `productioncompanies` (<br>  `production_company_id` integer NOT NULL<br>,  `production_company_name` varchar(500) DEFAULT NULL<br>,  PRIMARY KEY (`production_company_id`)<br>)</td>\n",
       "    </tr>\n",
       "    <tr>\n",
       "        <td>table</td>\n",
       "        <td>productioncompanymap</td>\n",
       "        <td>productioncompanymap</td>\n",
       "        <td>3163</td>\n",
       "        <td>CREATE TABLE `productioncompanymap` (<br>  `movie_id` integer NOT NULL<br>,  `production_company_id` integer NOT NULL<br>,  PRIMARY KEY (`movie_id`,`production_company_id`)<br>,  CONSTRAINT `FK__Productio__movie__5EBF139D` FOREIGN KEY (`movie_id`) REFERENCES `movies` (`movie_id`)<br>,  CONSTRAINT `FK__Productio__produ__5FB337D6` FOREIGN KEY (`production_company_id`) REFERENCES `productioncompanies` (`production_company_id`)<br>)</td>\n",
       "    </tr>\n",
       "    <tr>\n",
       "        <td>index</td>\n",
       "        <td>sqlite_autoindex_productioncompanymap_1</td>\n",
       "        <td>productioncompanymap</td>\n",
       "        <td>3164</td>\n",
       "        <td>None</td>\n",
       "    </tr>\n",
       "    <tr>\n",
       "        <td>table</td>\n",
       "        <td>productioncountries</td>\n",
       "        <td>productioncountries</td>\n",
       "        <td>3258</td>\n",
       "        <td>CREATE TABLE `productioncountries` (<br>  `iso_3166_1` char(2) NOT NULL<br>,  `production_country_name` varchar(50) DEFAULT NULL<br>,  PRIMARY KEY (`iso_3166_1`)<br>)</td>\n",
       "    </tr>\n",
       "    <tr>\n",
       "        <td>index</td>\n",
       "        <td>sqlite_autoindex_productioncountries_1</td>\n",
       "        <td>productioncountries</td>\n",
       "        <td>3259</td>\n",
       "        <td>None</td>\n",
       "    </tr>\n",
       "    <tr>\n",
       "        <td>table</td>\n",
       "        <td>productioncountrymap</td>\n",
       "        <td>productioncountrymap</td>\n",
       "        <td>3260</td>\n",
       "        <td>CREATE TABLE `productioncountrymap` (<br>  `movie_id` integer DEFAULT NULL<br>,  `iso_3166_1` char(2) DEFAULT NULL<br>,  CONSTRAINT `FK__Productio__iso_3__09A971A2` FOREIGN KEY (`iso_3166_1`) REFERENCES `productioncountries` (`iso_3166_1`)<br>,  CONSTRAINT `FK__Productio__movie__08B54D69` FOREIGN KEY (`movie_id`) REFERENCES `movies` (`movie_id`)<br>)</td>\n",
       "    </tr>\n",
       "    <tr>\n",
       "        <td>table</td>\n",
       "        <td>sysdiagrams</td>\n",
       "        <td>sysdiagrams</td>\n",
       "        <td>3281</td>\n",
       "        <td>CREATE TABLE `sysdiagrams` (<br>  `name` varchar(160) NOT NULL<br>,  `principal_id` integer NOT NULL<br>,  `diagram_id` integer NOT NULL<br>,  `version` integer DEFAULT NULL<br>,  `definition` longblob<br>,  PRIMARY KEY (`diagram_id`)<br>,  UNIQUE (`principal_id`,`name`)<br>)</td>\n",
       "    </tr>\n",
       "    <tr>\n",
       "        <td>index</td>\n",
       "        <td>sqlite_autoindex_sysdiagrams_1</td>\n",
       "        <td>sysdiagrams</td>\n",
       "        <td>3282</td>\n",
       "        <td>None</td>\n",
       "    </tr>\n",
       "    <tr>\n",
       "        <td>index</td>\n",
       "        <td>idx_genremap_FK__GenreMap__genre___4E88ABD4</td>\n",
       "        <td>genremap</td>\n",
       "        <td>3283</td>\n",
       "        <td>CREATE INDEX &quot;idx_genremap_FK__GenreMap__genre___4E88ABD4&quot; ON &quot;genremap&quot; (`genre_id`)</td>\n",
       "    </tr>\n",
       "    <tr>\n",
       "        <td>index</td>\n",
       "        <td>idx_casts_FK__Casts__actor_id__656C112C</td>\n",
       "        <td>casts</td>\n",
       "        <td>3312</td>\n",
       "        <td>CREATE INDEX &quot;idx_casts_FK__Casts__actor_id__656C112C&quot; ON &quot;casts&quot; (`actor_id`)</td>\n",
       "    </tr>\n",
       "    <tr>\n",
       "        <td>index</td>\n",
       "        <td>idx_languagemap_FK__LanguageM__iso_6__59FA5E80</td>\n",
       "        <td>languagemap</td>\n",
       "        <td>3610</td>\n",
       "        <td>CREATE INDEX &quot;idx_languagemap_FK__LanguageM__iso_6__59FA5E80&quot; ON &quot;languagemap&quot; (`iso_639_1`)</td>\n",
       "    </tr>\n",
       "    <tr>\n",
       "        <td>index</td>\n",
       "        <td>idx_productioncompanymap_FK__Productio__produ__5FB337D6</td>\n",
       "        <td>productioncompanymap</td>\n",
       "        <td>3628</td>\n",
       "        <td>CREATE INDEX &quot;idx_productioncompanymap_FK__Productio__produ__5FB337D6&quot; ON &quot;productioncompanymap&quot; (`production_company_id`)</td>\n",
       "    </tr>\n",
       "    <tr>\n",
       "        <td>index</td>\n",
       "        <td>idx_productioncountrymap_FK__Productio__movie__08B54D69</td>\n",
       "        <td>productioncountrymap</td>\n",
       "        <td>3663</td>\n",
       "        <td>CREATE INDEX &quot;idx_productioncountrymap_FK__Productio__movie__08B54D69&quot; ON &quot;productioncountrymap&quot; (`movie_id`)</td>\n",
       "    </tr>\n",
       "    <tr>\n",
       "        <td>index</td>\n",
       "        <td>idx_productioncountrymap_FK__Productio__iso_3__09A971A2</td>\n",
       "        <td>productioncountrymap</td>\n",
       "        <td>3681</td>\n",
       "        <td>CREATE INDEX &quot;idx_productioncountrymap_FK__Productio__iso_3__09A971A2&quot; ON &quot;productioncountrymap&quot; (`iso_3166_1`)</td>\n",
       "    </tr>\n",
       "    <tr>\n",
       "        <td>index</td>\n",
       "        <td>idx_keywordmap_FK__KeywordMa__keywo__5441852A</td>\n",
       "        <td>keywordmap</td>\n",
       "        <td>3698</td>\n",
       "        <td>CREATE INDEX &quot;idx_keywordmap_FK__KeywordMa__keywo__5441852A&quot; ON &quot;keywordmap&quot; (`keyword_id`)</td>\n",
       "    </tr>\n",
       "    <tr>\n",
       "        <td>view</td>\n",
       "        <td>Alan_Rickman_Movies</td>\n",
       "        <td>Alan_Rickman_Movies</td>\n",
       "        <td>0</td>\n",
       "        <td>CREATE VIEW Alan_Rickman_Movies AS  <br>SELECT title, release_date, tagline, overview FROM Movies  <br>LEFT JOIN Casts ON Casts.movie_id = Movies.movie_id Left JOIN Actors<br>ON Casts.actor_id = Actors.actor_id<br>WHERE Actors.actor_name = &#x27;Alan Rickman&#x27;</td>\n",
       "    </tr>\n",
       "</table>"
      ],
      "text/plain": [
       "[('table', 'actors', 'actors', 2, 'CREATE TABLE `actors` (\\n  `actor_id` integer NOT NULL\\n,  `actor_name` varchar(100) DEFAULT NULL\\n,  `gender` integer DEFAULT NULL\\n,  PRIMARY KEY (`actor_id`)\\n)'),\n",
       " ('table', 'casts', 'casts', 320, 'CREATE TABLE `casts` (\\n  `movie_id` integer NOT NULL\\n,  `actor_id` integer NOT NULL\\n,  `characters` varchar(500) NOT NULL\\n,  PRIMARY KEY (`movie_ ... (92 characters truncated) ... tor_id`) REFERENCES `actors` (`actor_id`)\\n,  CONSTRAINT `FK__Casts__movie_id__6477ECF3` FOREIGN KEY (`movie_id`) REFERENCES `movies` (`movie_id`)\\n)'),\n",
       " ('index', 'sqlite_autoindex_casts_1', 'casts', 321, None),\n",
       " ('table', 'genremap', 'genremap', 1903, 'CREATE TABLE `genremap` (\\n  `movie_id` integer NOT NULL\\n,  `genre_id` integer NOT NULL\\n,  PRIMARY KEY (`movie_id`,`genre_id`)\\n,  CONSTRAINT `FK__ ... (45 characters truncated) ... re_id`) REFERENCES `genres` (`genre_id`)\\n,  CONSTRAINT `FK__GenreMap__movie___4D94879B` FOREIGN KEY (`movie_id`) REFERENCES `movies` (`movie_id`)\\n)'),\n",
       " ('index', 'sqlite_autoindex_genremap_1', 'genremap', 1904, None),\n",
       " ('table', 'genres', 'genres', 1982, 'CREATE TABLE `genres` (\\n  `genre_id` integer NOT NULL\\n,  `genre_name` varchar(50) DEFAULT NULL\\n,  PRIMARY KEY (`genre_id`)\\n)'),\n",
       " ('table', 'keywordmap', 'keywordmap', 1983, 'CREATE TABLE `keywordmap` (\\n  `movie_id` integer NOT NULL\\n,  `keyword_id` integer NOT NULL\\n,  PRIMARY KEY (`movie_id`,`keyword_id`)\\n,  CONSTRAINT ... (57 characters truncated) ... d`) REFERENCES `keywords` (`keyword_id`)\\n,  CONSTRAINT `FK__KeywordMa__movie__534D60F1` FOREIGN KEY (`movie_id`) REFERENCES `movies` (`movie_id`)\\n)'),\n",
       " ('index', 'sqlite_autoindex_keywordmap_1', 'keywordmap', 1984, None),\n",
       " ('table', 'keywords', 'keywords', 2234, 'CREATE TABLE `keywords` (\\n  `keyword_id` integer NOT NULL\\n,  `keyword_name` varchar(500) DEFAULT NULL\\n,  PRIMARY KEY (`keyword_id`)\\n)'),\n",
       " ('table', 'languagemap', 'languagemap', 2283, 'CREATE TABLE `languagemap` (\\n  `movie_id` integer NOT NULL\\n,  `iso_639_1` char(2) NOT NULL\\n,  PRIMARY KEY (`movie_id`,`iso_639_1`)\\n,  CONSTRAINT  ... (55 characters truncated) ... 1`) REFERENCES `languages` (`iso_639_1`)\\n,  CONSTRAINT `FK__LanguageM__movie__59063A47` FOREIGN KEY (`movie_id`) REFERENCES `movies` (`movie_id`)\\n)'),\n",
       " ('index', 'sqlite_autoindex_languagemap_1', 'languagemap', 2284, None),\n",
       " ('table', 'languages', 'languages', 2331, 'CREATE TABLE `languages` (\\n  `iso_639_1` char(2) NOT NULL\\n,  `language_name` varchar(50) DEFAULT NULL\\n,  PRIMARY KEY (`iso_639_1`)\\n)'),\n",
       " ('index', 'sqlite_autoindex_languages_1', 'languages', 2332, None),\n",
       " ('table', 'movies', 'movies', 2333, 'CREATE TABLE `movies` (\\n  `movie_id` integer NOT NULL\\n,  `title` varchar(500) DEFAULT NULL\\n,  `release_date` datetime(6) DEFAULT NULL\\n,  `budget` ... (351 characters truncated) ... \\n,  `tagline` varchar(500) DEFAULT NULL\\n,  `vote_average` double DEFAULT NULL\\n,  `vote_count` integer DEFAULT NULL\\n,  PRIMARY KEY (`movie_id`)\\n)'),\n",
       " ('table', 'oscars', 'oscars', 2922, 'CREATE TABLE `oscars` (\\n  `year` varchar(10) DEFAULT NULL\\n,  `award` varchar(500) DEFAULT NULL\\n,  `winner` varchar(10) DEFAULT NULL\\n,  `name` varchar(500) DEFAULT NULL\\n,  `film` varchar(500) DEFAULT NULL\\n)'),\n",
       " ('table', 'productioncompanies', 'productioncompanies', 3127, 'CREATE TABLE `productioncompanies` (\\n  `production_company_id` integer NOT NULL\\n,  `production_company_name` varchar(500) DEFAULT NULL\\n,  PRIMARY KEY (`production_company_id`)\\n)'),\n",
       " ('table', 'productioncompanymap', 'productioncompanymap', 3163, 'CREATE TABLE `productioncompanymap` (\\n  `movie_id` integer NOT NULL\\n,  `production_company_id` integer NOT NULL\\n,  PRIMARY KEY (`movie_id`,`produc ... (122 characters truncated) ... )\\n,  CONSTRAINT `FK__Productio__produ__5FB337D6` FOREIGN KEY (`production_company_id`) REFERENCES `productioncompanies` (`production_company_id`)\\n)'),\n",
       " ('index', 'sqlite_autoindex_productioncompanymap_1', 'productioncompanymap', 3164, None),\n",
       " ('table', 'productioncountries', 'productioncountries', 3258, 'CREATE TABLE `productioncountries` (\\n  `iso_3166_1` char(2) NOT NULL\\n,  `production_country_name` varchar(50) DEFAULT NULL\\n,  PRIMARY KEY (`iso_3166_1`)\\n)'),\n",
       " ('index', 'sqlite_autoindex_productioncountries_1', 'productioncountries', 3259, None),\n",
       " ('table', 'productioncountrymap', 'productioncountrymap', 3260, 'CREATE TABLE `productioncountrymap` (\\n  `movie_id` integer DEFAULT NULL\\n,  `iso_3166_1` char(2) DEFAULT NULL\\n,  CONSTRAINT `FK__Productio__iso_3__ ... (44 characters truncated) ... CES `productioncountries` (`iso_3166_1`)\\n,  CONSTRAINT `FK__Productio__movie__08B54D69` FOREIGN KEY (`movie_id`) REFERENCES `movies` (`movie_id`)\\n)'),\n",
       " ('table', 'sysdiagrams', 'sysdiagrams', 3281, 'CREATE TABLE `sysdiagrams` (\\n  `name` varchar(160) NOT NULL\\n,  `principal_id` integer NOT NULL\\n,  `diagram_id` integer NOT NULL\\n,  `version` integer DEFAULT NULL\\n,  `definition` longblob\\n,  PRIMARY KEY (`diagram_id`)\\n,  UNIQUE (`principal_id`,`name`)\\n)'),\n",
       " ('index', 'sqlite_autoindex_sysdiagrams_1', 'sysdiagrams', 3282, None),\n",
       " ('index', 'idx_genremap_FK__GenreMap__genre___4E88ABD4', 'genremap', 3283, 'CREATE INDEX \"idx_genremap_FK__GenreMap__genre___4E88ABD4\" ON \"genremap\" (`genre_id`)'),\n",
       " ('index', 'idx_casts_FK__Casts__actor_id__656C112C', 'casts', 3312, 'CREATE INDEX \"idx_casts_FK__Casts__actor_id__656C112C\" ON \"casts\" (`actor_id`)'),\n",
       " ('index', 'idx_languagemap_FK__LanguageM__iso_6__59FA5E80', 'languagemap', 3610, 'CREATE INDEX \"idx_languagemap_FK__LanguageM__iso_6__59FA5E80\" ON \"languagemap\" (`iso_639_1`)'),\n",
       " ('index', 'idx_productioncompanymap_FK__Productio__produ__5FB337D6', 'productioncompanymap', 3628, 'CREATE INDEX \"idx_productioncompanymap_FK__Productio__produ__5FB337D6\" ON \"productioncompanymap\" (`production_company_id`)'),\n",
       " ('index', 'idx_productioncountrymap_FK__Productio__movie__08B54D69', 'productioncountrymap', 3663, 'CREATE INDEX \"idx_productioncountrymap_FK__Productio__movie__08B54D69\" ON \"productioncountrymap\" (`movie_id`)'),\n",
       " ('index', 'idx_productioncountrymap_FK__Productio__iso_3__09A971A2', 'productioncountrymap', 3681, 'CREATE INDEX \"idx_productioncountrymap_FK__Productio__iso_3__09A971A2\" ON \"productioncountrymap\" (`iso_3166_1`)'),\n",
       " ('index', 'idx_keywordmap_FK__KeywordMa__keywo__5441852A', 'keywordmap', 3698, 'CREATE INDEX \"idx_keywordmap_FK__KeywordMa__keywo__5441852A\" ON \"keywordmap\" (`keyword_id`)'),\n",
       " ('view', 'Alan_Rickman_Movies', 'Alan_Rickman_Movies', 0, \"CREATE VIEW Alan_Rickman_Movies AS  \\nSELECT title, release_date, tagline, overview FROM Movies  \\nLEFT JOIN Casts ON Casts.movie_id = Movies.movie_id Left JOIN Actors\\nON Casts.actor_id = Actors.actor_id\\nWHERE Actors.actor_name = 'Alan Rickman'\")]"
      ]
     },
     "execution_count": 3,
     "metadata": {},
     "output_type": "execute_result"
    }
   ],
   "source": [
    "%%sql\n",
    "SELECT * \n",
    "FROM sqlite_master;"
   ]
  },
  {
   "cell_type": "code",
   "execution_count": 4,
   "id": "0fac7114-485a-4b39-a676-71be40792b24",
   "metadata": {},
   "outputs": [
    {
     "name": "stdout",
     "output_type": "stream",
     "text": [
      " * sqlite:///C:\\Users\\User\\Desktop\\sql/TMDB-a-4006.db\n",
      "Done.\n"
     ]
    },
    {
     "data": {
      "text/html": [
       "<table>\n",
       "    <tr>\n",
       "        <th>name</th>\n",
       "    </tr>\n",
       "    <tr>\n",
       "        <td>actors</td>\n",
       "    </tr>\n",
       "    <tr>\n",
       "        <td>casts</td>\n",
       "    </tr>\n",
       "    <tr>\n",
       "        <td>genremap</td>\n",
       "    </tr>\n",
       "    <tr>\n",
       "        <td>genres</td>\n",
       "    </tr>\n",
       "    <tr>\n",
       "        <td>keywordmap</td>\n",
       "    </tr>\n",
       "    <tr>\n",
       "        <td>keywords</td>\n",
       "    </tr>\n",
       "    <tr>\n",
       "        <td>languagemap</td>\n",
       "    </tr>\n",
       "    <tr>\n",
       "        <td>languages</td>\n",
       "    </tr>\n",
       "    <tr>\n",
       "        <td>movies</td>\n",
       "    </tr>\n",
       "    <tr>\n",
       "        <td>oscars</td>\n",
       "    </tr>\n",
       "    <tr>\n",
       "        <td>productioncompanies</td>\n",
       "    </tr>\n",
       "    <tr>\n",
       "        <td>productioncompanymap</td>\n",
       "    </tr>\n",
       "    <tr>\n",
       "        <td>productioncountries</td>\n",
       "    </tr>\n",
       "    <tr>\n",
       "        <td>productioncountrymap</td>\n",
       "    </tr>\n",
       "    <tr>\n",
       "        <td>sysdiagrams</td>\n",
       "    </tr>\n",
       "</table>"
      ],
      "text/plain": [
       "[('actors',),\n",
       " ('casts',),\n",
       " ('genremap',),\n",
       " ('genres',),\n",
       " ('keywordmap',),\n",
       " ('keywords',),\n",
       " ('languagemap',),\n",
       " ('languages',),\n",
       " ('movies',),\n",
       " ('oscars',),\n",
       " ('productioncompanies',),\n",
       " ('productioncompanymap',),\n",
       " ('productioncountries',),\n",
       " ('productioncountrymap',),\n",
       " ('sysdiagrams',)]"
      ]
     },
     "execution_count": 4,
     "metadata": {},
     "output_type": "execute_result"
    }
   ],
   "source": [
    "%%sql\n",
    "SELECT name\n",
    "FROM sqlite_master\n",
    "WHERE type = \"table\";"
   ]
  },
  {
   "cell_type": "code",
   "execution_count": 12,
   "id": "3794bb72-43e8-4e15-80e1-5ed5ac218c21",
   "metadata": {},
   "outputs": [
    {
     "name": "stdout",
     "output_type": "stream",
     "text": [
      " * sqlite:///C:\\Users\\User\\Desktop\\sql/TMDB-a-4006.db\n",
      "Done.\n"
     ]
    },
    {
     "data": {
      "text/html": [
       "<table>\n",
       "    <tr>\n",
       "        <th>year</th>\n",
       "        <th>award</th>\n",
       "        <th>winner</th>\n",
       "        <th>name</th>\n",
       "        <th>film</th>\n",
       "    </tr>\n",
       "    <tr>\n",
       "        <td>2015</td>\n",
       "        <td>Actor in a Leading Role</td>\n",
       "        <td>1.0</td>\n",
       "        <td>Leonardo DiCaprio</td>\n",
       "        <td>The Revenant</td>\n",
       "    </tr>\n",
       "</table>"
      ],
      "text/plain": [
       "[('2015', 'Actor in a Leading Role', '1.0', 'Leonardo DiCaprio', 'The Revenant')]"
      ]
     },
     "execution_count": 12,
     "metadata": {},
     "output_type": "execute_result"
    }
   ],
   "source": [
    "%%sql\n",
    "-- 1. Who won the Oscar for “Actor in a Leading Role” in 2015?\n",
    "SELECT * \n",
    "FROM oscars\n",
    "WHERE winner = 1.0\n",
    "and\n",
    "      year = 2015   \n",
    "and \n",
    "    award = \"Actor in a Leading Role\"\n",
    "limit 5"
   ]
  },
  {
   "cell_type": "code",
   "execution_count": 14,
   "id": "1d4c1308-7be3-4fe7-9e29-e735f838335e",
   "metadata": {},
   "outputs": [
    {
     "name": "stdout",
     "output_type": "stream",
     "text": [
      " * sqlite:///C:\\Users\\User\\Desktop\\sql/TMDB-a-4006.db\n",
      "Done.\n"
     ]
    },
    {
     "data": {
      "text/html": [
       "<table>\n",
       "    <tr>\n",
       "        <th>movie_id</th>\n",
       "        <th>title</th>\n",
       "        <th>release_date</th>\n",
       "        <th>budget</th>\n",
       "        <th>homepage</th>\n",
       "        <th>original_language</th>\n",
       "        <th>original_title</th>\n",
       "        <th>overview</th>\n",
       "        <th>popularity</th>\n",
       "        <th>revenue</th>\n",
       "        <th>runtime</th>\n",
       "        <th>release_status</th>\n",
       "        <th>tagline</th>\n",
       "        <th>vote_average</th>\n",
       "        <th>vote_count</th>\n",
       "    </tr>\n",
       "    <tr>\n",
       "        <td>3059</td>\n",
       "        <td>Intolerance</td>\n",
       "        <td>1916-09-04 00:00:00.000000</td>\n",
       "        <td>385907</td>\n",
       "        <td>None</td>\n",
       "        <td>en</td>\n",
       "        <td>Intolerance</td>\n",
       "        <td>The story of a poor young woman, separated by prejudice from her husband and baby, is interwoven with tales of intolerance from throughout history.</td>\n",
       "        <td>3.232447</td>\n",
       "        <td>8394751.0</td>\n",
       "        <td>197.0</td>\n",
       "        <td>Released</td>\n",
       "        <td>The Cruel Hand of Intolerance</td>\n",
       "        <td>7.4</td>\n",
       "        <td>60</td>\n",
       "    </tr>\n",
       "    <tr>\n",
       "        <td>3060</td>\n",
       "        <td>The Big Parade</td>\n",
       "        <td>1925-11-05 00:00:00.000000</td>\n",
       "        <td>245000</td>\n",
       "        <td>None</td>\n",
       "        <td>en</td>\n",
       "        <td>The Big Parade</td>\n",
       "        <td>The story of an idle rich boy who joins the US Army&#x27;s Rainbow Division and is sent to France to fight in World War I, becomes friends with two working class men, experiences the horrors of trench warfare, and finds love with a French girl.</td>\n",
       "        <td>0.785744</td>\n",
       "        <td>22000000.0</td>\n",
       "        <td>151.0</td>\n",
       "        <td>Released</td>\n",
       "        <td>None</td>\n",
       "        <td>7.0</td>\n",
       "        <td>21</td>\n",
       "    </tr>\n",
       "    <tr>\n",
       "        <td>19</td>\n",
       "        <td>Metropolis</td>\n",
       "        <td>1927-01-10 00:00:00.000000</td>\n",
       "        <td>92620000</td>\n",
       "        <td>None</td>\n",
       "        <td>de</td>\n",
       "        <td>Metropolis</td>\n",
       "        <td>In a futuristic city sharply divided between the working class and the city planners, the son of the city&#x27;s mastermind falls in love with a working class prophet who predicts the coming of a savior to mediate their differences.</td>\n",
       "        <td>32.351527</td>\n",
       "        <td>650422.0</td>\n",
       "        <td>153.0</td>\n",
       "        <td>Released</td>\n",
       "        <td>There can be no understanding between the hands and the brain unless the heart acts as mediator.</td>\n",
       "        <td>8.0</td>\n",
       "        <td>657</td>\n",
       "    </tr>\n",
       "    <tr>\n",
       "        <td>905</td>\n",
       "        <td>Pandora&#x27;s Box</td>\n",
       "        <td>1929-01-30 00:00:00.000000</td>\n",
       "        <td>0</td>\n",
       "        <td>None</td>\n",
       "        <td>de</td>\n",
       "        <td>Die Bnchse der Pandora</td>\n",
       "        <td>The rise and inevitable fall of an amoral but naive young woman whose insouciant eroticism inspires lust and violence in those around her.</td>\n",
       "        <td>1.824184</td>\n",
       "        <td>0.0</td>\n",
       "        <td>109.0</td>\n",
       "        <td>Released</td>\n",
       "        <td>None</td>\n",
       "        <td>7.6</td>\n",
       "        <td>45</td>\n",
       "    </tr>\n",
       "    <tr>\n",
       "        <td>65203</td>\n",
       "        <td>The Broadway Melody</td>\n",
       "        <td>1929-02-08 00:00:00.000000</td>\n",
       "        <td>379000</td>\n",
       "        <td>None</td>\n",
       "        <td>en</td>\n",
       "        <td>The Broadway Melody</td>\n",
       "        <td>Harriet and Queenie Mahoney, a vaudeville act, come to Broadway, where their friend Eddie Kerns needs them for his number in one of Francis Zanfield&#x27;s shows. Eddie was in love with Harriet, but when he meets Queenie, he falls in love to her, but she is courted by Jock Warriner, a member of the New Yorker high society. It takes a while till Queenie recognizes, that she is for Jock nothing more than a toy, and it also takes a while till Harriet recognizes, that Eddie is in love with Queenie</td>\n",
       "        <td>0.968865</td>\n",
       "        <td>4358000.0</td>\n",
       "        <td>100.0</td>\n",
       "        <td>Released</td>\n",
       "        <td>The pulsating drama of Broadway&#x27;s bared heart speaks and sings with a voice to stir your soul!</td>\n",
       "        <td>5.0</td>\n",
       "        <td>19</td>\n",
       "    </tr>\n",
       "    <tr>\n",
       "        <td>22301</td>\n",
       "        <td>Hell&#x27;s Angels</td>\n",
       "        <td>1930-11-15 00:00:00.000000</td>\n",
       "        <td>3950000</td>\n",
       "        <td>None</td>\n",
       "        <td>en</td>\n",
       "        <td>Hell&#x27;s Angels</td>\n",
       "        <td>Two brothers attending Oxford enlist with the Royal Flying Corps when World War I breaks out. Roy and Monte Rutledge have very different personalities. Monte is a freewheeling womanizer, even with his brother&#x27;s girlfriend Helen. He also proves to have a yellow streak when it comes to his Night Patrol duties. Roy is made of strong moral fiber and attempts to keep his brother in line. Both volunteer for an extremely risky two man bombing mission for different reasons. Monte wants to lose his cowardly reputation and Roy seeks to protect his brother. Roy loves Helen; Helen enjoys an affair with Monte; before they leave on their mission over Germany they find her in still another man&#x27;s arms.  Their assignment to knock out a strategic German munitions facility is a booming success, but with a squadron of fighters bearing down on them afterwards, escape seems unlikely.</td>\n",
       "        <td>8.484123</td>\n",
       "        <td>8000000.0</td>\n",
       "        <td>127.0</td>\n",
       "        <td>Released</td>\n",
       "        <td>Howard Hughes&#x27; Thrilling Multi-Million Dollar Air Spectacle</td>\n",
       "        <td>6.1</td>\n",
       "        <td>19</td>\n",
       "    </tr>\n",
       "    <tr>\n",
       "        <td>22649</td>\n",
       "        <td>A Farewell to Arms</td>\n",
       "        <td>1932-12-08 00:00:00.000000</td>\n",
       "        <td>4</td>\n",
       "        <td>None</td>\n",
       "        <td>en</td>\n",
       "        <td>A Farewell to Arms</td>\n",
       "        <td>British nurse Catherine Barkley (Helen Hayes) and American Lieutenant Frederic Henry (Gary Cooper) fall in love during the First World War in Italy. Eventually separated by Frederic&#x27;s transfer, tremendous challenges and difficult decisions face each, as the war rages on. Academy Awards winner for Best Cinematography and for Best Sound, Recording. Nominated for Best Picture and for Best Art Direction.</td>\n",
       "        <td>1.199451</td>\n",
       "        <td>25.0</td>\n",
       "        <td>89.0</td>\n",
       "        <td>Released</td>\n",
       "        <td>Every woman who has loved will understand</td>\n",
       "        <td>6.2</td>\n",
       "        <td>28</td>\n",
       "    </tr>\n",
       "    <tr>\n",
       "        <td>3062</td>\n",
       "        <td>42nd Street</td>\n",
       "        <td>1933-02-02 00:00:00.000000</td>\n",
       "        <td>439000</td>\n",
       "        <td>None</td>\n",
       "        <td>en</td>\n",
       "        <td>42nd Street</td>\n",
       "        <td>A producer puts on what may be his last Broadway show, and at the last moment a chorus girl has to replace the star.</td>\n",
       "        <td>1.933366</td>\n",
       "        <td>2281000.0</td>\n",
       "        <td>89.0</td>\n",
       "        <td>Released</td>\n",
       "        <td>None</td>\n",
       "        <td>6.1</td>\n",
       "        <td>37</td>\n",
       "    </tr>\n",
       "    <tr>\n",
       "        <td>43595</td>\n",
       "        <td>She Done Him Wrong</td>\n",
       "        <td>1933-02-09 00:00:00.000000</td>\n",
       "        <td>200000</td>\n",
       "        <td>None</td>\n",
       "        <td>en</td>\n",
       "        <td>She Done Him Wrong</td>\n",
       "        <td>&quot;New York singer and nightclub owner Lady Lou has more men friends than you can imagine. Unfortunately one of them is a vicious criminal who&#x27;s escaped and is on the way to see &quot;&quot;his&quot;&quot; girl, not realising she hasn&#x27;t exactly been faithful in his absence. Help is at hand in the form of young Captain Cummings a local temperance league leader though.&quot;</td>\n",
       "        <td>0.622752</td>\n",
       "        <td>2200000.0</td>\n",
       "        <td>66.0</td>\n",
       "        <td>Released</td>\n",
       "        <td>Mae West gives a &#x27;Hot Time&#x27; to the nation!</td>\n",
       "        <td>5.1</td>\n",
       "        <td>27</td>\n",
       "    </tr>\n",
       "    <tr>\n",
       "        <td>3078</td>\n",
       "        <td>It Happened One Night</td>\n",
       "        <td>1934-02-22 00:00:00.000000</td>\n",
       "        <td>325000</td>\n",
       "        <td>None</td>\n",
       "        <td>en</td>\n",
       "        <td>It Happened One Night</td>\n",
       "        <td>Ellie Andrews has just tied the knot with society aviator King Westley when she is whisked away to her father&#x27;s yacht and out of King&#x27;s clutches. Ellie jumps ship and eventually winds up on a bus headed back to her husband. Reluctantly she must accept the help of out-of- work reporter Peter Warne. Actually, Warne doesn&#x27;t give her any choice: either she sticks with him until he gets her back to her husband, or he&#x27;ll blow the whistle on Ellie to her father. Either way, Peter gets what he wants... a really juicy newspaper story!</td>\n",
       "        <td>11.871424</td>\n",
       "        <td>4500000.0</td>\n",
       "        <td>105.0</td>\n",
       "        <td>Released</td>\n",
       "        <td>TOGETHER... for the first time</td>\n",
       "        <td>7.7</td>\n",
       "        <td>275</td>\n",
       "    </tr>\n",
       "</table>"
      ],
      "text/plain": [
       "[(3059, 'Intolerance', '1916-09-04 00:00:00.000000', 385907, None, 'en', 'Intolerance', 'The story of a poor young woman, separated by prejudice from her husband and baby, is interwoven with tales of intolerance from throughout history.', 3.232447, 8394751.0, 197.0, 'Released', 'The Cruel Hand of Intolerance', 7.4, 60),\n",
       " (3060, 'The Big Parade', '1925-11-05 00:00:00.000000', 245000, None, 'en', 'The Big Parade', \"The story of an idle rich boy who joins the US Army's Rainbow Division and is sent to France to fight in World War I, becomes friends with two working class men, experiences the horrors of trench warfare, and finds love with a French girl.\", 0.785744, 22000000.0, 151.0, 'Released', None, 7.0, 21),\n",
       " (19, 'Metropolis', '1927-01-10 00:00:00.000000', 92620000, None, 'de', 'Metropolis', \"In a futuristic city sharply divided between the working class and the city planners, the son of the city's mastermind falls in love with a working class prophet who predicts the coming of a savior to mediate their differences.\", 32.351527, 650422.0, 153.0, 'Released', 'There can be no understanding between the hands and the brain unless the heart acts as mediator.', 8.0, 657),\n",
       " (905, \"Pandora's Box\", '1929-01-30 00:00:00.000000', 0, None, 'de', 'Die Bnchse der Pandora', 'The rise and inevitable fall of an amoral but naive young woman whose insouciant eroticism inspires lust and violence in those around her.', 1.824184, 0.0, 109.0, 'Released', None, 7.6, 45),\n",
       " (65203, 'The Broadway Melody', '1929-02-08 00:00:00.000000', 379000, None, 'en', 'The Broadway Melody', \"Harriet and Queenie Mahoney, a vaudeville act, come to Broadway, where their friend Eddie Kerns needs them for his number in one of Francis Zanfield' ... (195 characters truncated) ... eenie recognizes, that she is for Jock nothing more than a toy, and it also takes a while till Harriet recognizes, that Eddie is in love with Queenie\", 0.968865, 4358000.0, 100.0, 'Released', \"The pulsating drama of Broadway's bared heart speaks and sings with a voice to stir your soul!\", 5.0, 19),\n",
       " (22301, \"Hell's Angels\", '1930-11-15 00:00:00.000000', 3950000, None, 'en', \"Hell's Angels\", \"Two brothers attending Oxford enlist with the Royal Flying Corps when World War I breaks out. Roy and Monte Rutledge have very different personalitie ... (576 characters truncated) ... t a strategic German munitions facility is a booming success, but with a squadron of fighters bearing down on them afterwards, escape seems unlikely.\", 8.484123, 8000000.0, 127.0, 'Released', \"Howard Hughes' Thrilling Multi-Million Dollar Air Spectacle\", 6.1, 19),\n",
       " (22649, 'A Farewell to Arms', '1932-12-08 00:00:00.000000', 4, None, 'en', 'A Farewell to Arms', \"British nurse Catherine Barkley (Helen Hayes) and American Lieutenant Frederic Henry (Gary Cooper) fall in love during the First World War in Italy.  ... (105 characters truncated) ... the war rages on. Academy Awards winner for Best Cinematography and for Best Sound, Recording. Nominated for Best Picture and for Best Art Direction.\", 1.199451, 25.0, 89.0, 'Released', 'Every woman who has loved will understand', 6.2, 28),\n",
       " (3062, '42nd Street', '1933-02-02 00:00:00.000000', 439000, None, 'en', '42nd Street', 'A producer puts on what may be his last Broadway show, and at the last moment a chorus girl has to replace the star.', 1.933366, 2281000.0, 89.0, 'Released', None, 6.1, 37),\n",
       " (43595, 'She Done Him Wrong', '1933-02-09 00:00:00.000000', 200000, None, 'en', 'She Done Him Wrong', '\"New York singer and nightclub owner Lady Lou has more men friends than you can imagine. Unfortunately one of them is a vicious criminal who\\'s escap ... (52 characters truncated) ... ing she hasn\\'t exactly been faithful in his absence. Help is at hand in the form of young Captain Cummings a local temperance league leader though.\"', 0.622752, 2200000.0, 66.0, 'Released', \"Mae West gives a 'Hot Time' to the nation!\", 5.1, 27),\n",
       " (3078, 'It Happened One Night', '1934-02-22 00:00:00.000000', 325000, None, 'en', 'It Happened One Night', \"Ellie Andrews has just tied the knot with society aviator King Westley when she is whisked away to her father's yacht and out of King's clutches. Ell ... (233 characters truncated) ... ts her back to her husband, or he'll blow the whistle on Ellie to her father. Either way, Peter gets what he wants... a really juicy newspaper story!\", 11.871424, 4500000.0, 105.0, 'Released', 'TOGETHER... for the first time', 7.7, 275)]"
      ]
     },
     "execution_count": 14,
     "metadata": {},
     "output_type": "execute_result"
    }
   ],
   "source": [
    "%%sql\n",
    "-- 2. select 10 oldest movies from the database\n",
    "SELECT * \n",
    "FROM \n",
    "    movies \n",
    "WHERE \n",
    "    release_date IS NOT NULL \n",
    "ORDER BY \n",
    "    release_date ASC\n",
    "LIMIT 10\n"
   ]
  },
  {
   "cell_type": "code",
   "execution_count": 15,
   "id": "0ec8a2b1-6755-4e58-98b2-a1ef1a79685e",
   "metadata": {},
   "outputs": [
    {
     "name": "stdout",
     "output_type": "stream",
     "text": [
      " * sqlite:///C:\\Users\\User\\Desktop\\sql/TMDB-a-4006.db\n",
      "Done.\n"
     ]
    },
    {
     "data": {
      "text/html": [
       "<table>\n",
       "    <tr>\n",
       "        <th>count(distinct award)</th>\n",
       "    </tr>\n",
       "    <tr>\n",
       "        <td>114</td>\n",
       "    </tr>\n",
       "</table>"
      ],
      "text/plain": [
       "[(114,)]"
      ]
     },
     "execution_count": 15,
     "metadata": {},
     "output_type": "execute_result"
    }
   ],
   "source": [
    "%%sql\n",
    "-- 3. How many unique awards are there in the Oscars table?\n",
    "SELECT count(distinct award)\n",
    "FROM oscars\n",
    "LIMIT 5"
   ]
  },
  {
   "cell_type": "code",
   "execution_count": 19,
   "id": "b58b7840-07da-49ad-af68-2b5c653acdb4",
   "metadata": {},
   "outputs": [
    {
     "name": "stdout",
     "output_type": "stream",
     "text": [
      " * sqlite:///C:\\Users\\User\\Desktop\\sql/TMDB-a-4006.db\n",
      "Done.\n"
     ]
    },
    {
     "data": {
      "text/html": [
       "<table>\n",
       "    <tr>\n",
       "        <th>count(*)</th>\n",
       "    </tr>\n",
       "    <tr>\n",
       "        <td>9</td>\n",
       "    </tr>\n",
       "</table>"
      ],
      "text/plain": [
       "[(9,)]"
      ]
     },
     "execution_count": 19,
     "metadata": {},
     "output_type": "execute_result"
    }
   ],
   "source": [
    "%%sql\n",
    "-- 4. How many movies are there that contain the word “Spider” within their title?\n",
    "SELECT count(*)\n",
    "FROM movies\n",
    "where title like \"%Spider%\""
   ]
  },
  {
   "cell_type": "code",
   "execution_count": 44,
   "id": "59b26026-45c9-45b5-8275-ee2af0930c03",
   "metadata": {},
   "outputs": [
    {
     "name": "stdout",
     "output_type": "stream",
     "text": [
      " * sqlite:///C:\\Users\\User\\Desktop\\sql/TMDB-a-4006.db\n",
      "Done.\n"
     ]
    },
    {
     "data": {
      "text/html": [
       "<table>\n",
       "    <tr>\n",
       "        <th>count(*)</th>\n",
       "    </tr>\n",
       "    <tr>\n",
       "        <td>55</td>\n",
       "    </tr>\n",
       "</table>"
      ],
      "text/plain": [
       "[(55,)]"
      ]
     },
     "execution_count": 44,
     "metadata": {},
     "output_type": "execute_result"
    }
   ],
   "source": [
    "%%sql\n",
    "-- 5. Movies with  \"Thriller\" genre and contain the word “love”\n",
    "\n",
    "SELECT \n",
    "    count(*)\n",
    "FROM \n",
    "    genremap as gmp\n",
    "JOIN\n",
    "    genres as gr\n",
    "ON \n",
    "    gmp.genre_id = gr.genre_id\n",
    "JOIN \n",
    "    keywordmap as kp\n",
    "ON\n",
    "    gmp.movie_id = kp.movie_id\n",
    "JOIN \n",
    "    keywords as ks\n",
    "ON \n",
    "    kp.keyword_id = ks.keyword_id\n",
    "WHERE \n",
    "    gr.genre_name = \"Thriller\"\n",
    "AND \n",
    "    ks.keyword_name LIKE \"%love%\"\n"
   ]
  },
  {
   "cell_type": "code",
   "execution_count": 45,
   "id": "aee455e2-2d84-47c4-96ea-12a820e57bf5",
   "metadata": {},
   "outputs": [
    {
     "name": "stdout",
     "output_type": "stream",
     "text": [
      " * sqlite:///C:\\Users\\User\\Desktop\\sql/TMDB-a-4006.db\n",
      "Done.\n"
     ]
    },
    {
     "data": {
      "text/html": [
       "<table>\n",
       "    <tr>\n",
       "        <th>movie_count</th>\n",
       "    </tr>\n",
       "    <tr>\n",
       "        <td>29</td>\n",
       "    </tr>\n",
       "</table>"
      ],
      "text/plain": [
       "[(29,)]"
      ]
     },
     "execution_count": 45,
     "metadata": {},
     "output_type": "execute_result"
    }
   ],
   "source": [
    "%%sql\n",
    "-- 6. Movies with popularity > 40\n",
    "SELECT count(*) as movie_count\n",
    "FROM movies\n",
    "where \n",
    "    release_date >= \"2006-08-01\"\n",
    "AND \n",
    "    release_date <= \"2009-10-01\"\n",
    "AND \n",
    "    popularity > 40\n",
    "AND \n",
    "    budget < 50000000"
   ]
  },
  {
   "cell_type": "code",
   "execution_count": 70,
   "id": "c3b1602f-f441-4057-aabf-a42611d7743d",
   "metadata": {},
   "outputs": [
    {
     "name": "stdout",
     "output_type": "stream",
     "text": [
      " * sqlite:///C:\\Users\\User\\Desktop\\sql/TMDB-a-4006.db\n",
      "Done.\n"
     ]
    },
    {
     "data": {
      "text/html": [
       "<table>\n",
       "    <tr>\n",
       "        <th>actor_id</th>\n",
       "        <th>actor_name</th>\n",
       "        <th>gender</th>\n",
       "    </tr>\n",
       "    <tr>\n",
       "        <td>12835</td>\n",
       "        <td>Vin Diesel</td>\n",
       "        <td>2</td>\n",
       "    </tr>\n",
       "</table>"
      ],
      "text/plain": [
       "[(12835, 'Vin Diesel', 2)]"
      ]
     },
     "execution_count": 70,
     "metadata": {},
     "output_type": "execute_result"
    }
   ],
   "source": [
    "%%sql\n",
    "SELECT\n",
    "    *\n",
    "FROM \n",
    "    actors\n",
    "where actor_name = \"Vin Diesel\"\n",
    "LIMIT 5"
   ]
  },
  {
   "cell_type": "code",
   "execution_count": 71,
   "id": "5fcf5090-bdbb-45c6-814c-df1b69d7513f",
   "metadata": {},
   "outputs": [
    {
     "name": "stdout",
     "output_type": "stream",
     "text": [
      " * sqlite:///C:\\Users\\User\\Desktop\\sql/TMDB-a-4006.db\n",
      "Done.\n"
     ]
    },
    {
     "data": {
      "text/html": [
       "<table>\n",
       "    <tr>\n",
       "        <th>count(*)</th>\n",
       "    </tr>\n",
       "    <tr>\n",
       "        <td>19</td>\n",
       "    </tr>\n",
       "</table>"
      ],
      "text/plain": [
       "[(19,)]"
      ]
     },
     "execution_count": 71,
     "metadata": {},
     "output_type": "execute_result"
    }
   ],
   "source": [
    "%%sql\n",
    "-- 7. How many unique characters has \"Vin Diesel\" played so far in the database?\n",
    "SELECT \n",
    "   count(*)\n",
    "FROM \n",
    "    actors as a\n",
    "JOIN \n",
    "    casts as c\n",
    "ON \n",
    "    a.actor_id\t = c.actor_id\t\n",
    "where a.actor_id = 12835\n",
    "limit 5"
   ]
  },
  {
   "cell_type": "code",
   "execution_count": 54,
   "id": "bdc25aee-7fd2-4a99-8c31-0b8670673dbf",
   "metadata": {},
   "outputs": [
    {
     "name": "stdout",
     "output_type": "stream",
     "text": [
      " * sqlite:///C:\\Users\\User\\Desktop\\sql/TMDB-a-4006.db\n",
      "Done.\n"
     ]
    },
    {
     "data": {
      "text/html": [
       "<table>\n",
       "    <tr>\n",
       "        <th>genre_name</th>\n",
       "    </tr>\n",
       "    <tr>\n",
       "        <td>Drama</td>\n",
       "    </tr>\n",
       "    <tr>\n",
       "        <td>Comedy</td>\n",
       "    </tr>\n",
       "</table>"
      ],
      "text/plain": [
       "[('Drama',), ('Comedy',)]"
      ]
     },
     "execution_count": 54,
     "metadata": {},
     "output_type": "execute_result"
    }
   ],
   "source": [
    "%%sql\n",
    "-- 8 What are the genres of the movie “The Royal Tenenbaums”?\n",
    "SELECT \n",
    "    genre_name\n",
    "FROM \n",
    "    movies as m\n",
    "JOIN \n",
    "    genremap as gp\n",
    "ON\n",
    "   m.movie_id = gp.movie_id\n",
    "JOIN \n",
    "    genres as gr\n",
    "ON \n",
    "    gp.genre_id = gr.genre_id\n",
    "WHERE \n",
    "   m.title like \"%Royal Tenenbaums%\"\n",
    "limit 5"
   ]
  },
  {
   "cell_type": "code",
   "execution_count": 74,
   "id": "c669afcf-3e3a-4daa-b927-7e7600b306a9",
   "metadata": {},
   "outputs": [
    {
     "name": "stdout",
     "output_type": "stream",
     "text": [
      " * sqlite:///C:\\Users\\User\\Desktop\\sql/TMDB-a-4006.db\n",
      "Done.\n"
     ]
    },
    {
     "data": {
      "text/html": [
       "<table>\n",
       "    <tr>\n",
       "        <th>avg(m.popularity)</th>\n",
       "        <th>production_company_name</th>\n",
       "    </tr>\n",
       "    <tr>\n",
       "        <td>514.569956</td>\n",
       "        <td>The Donners&#x27; Company</td>\n",
       "    </tr>\n",
       "    <tr>\n",
       "        <td>481.098624</td>\n",
       "        <td>Bulletproof Cupid</td>\n",
       "    </tr>\n",
       "    <tr>\n",
       "        <td>326.92099900000005</td>\n",
       "        <td>Kinberg Genre</td>\n",
       "    </tr>\n",
       "    <tr>\n",
       "        <td>234.9200424</td>\n",
       "        <td>Illumination Entertainment</td>\n",
       "    </tr>\n",
       "    <tr>\n",
       "        <td>198.372395</td>\n",
       "        <td>Vita-Ray Dutch Productions (III)</td>\n",
       "    </tr>\n",
       "</table>"
      ],
      "text/plain": [
       "[(514.569956, \"The Donners' Company\"),\n",
       " (481.098624, 'Bulletproof Cupid'),\n",
       " (326.92099900000005, 'Kinberg Genre'),\n",
       " (234.9200424, 'Illumination Entertainment'),\n",
       " (198.372395, 'Vita-Ray Dutch Productions (III)')]"
      ]
     },
     "execution_count": 74,
     "metadata": {},
     "output_type": "execute_result"
    }
   ],
   "source": [
    "\n",
    "%%sql\n",
    "-- 9. What are the three production companies that have the highest movie popularity\n",
    "SELECT \n",
    "    avg(m.popularity),\n",
    "    p.production_company_name\n",
    "FROM \n",
    "    productioncompanies as p\n",
    "JOIN \n",
    "    productioncompanymap as  mp\n",
    "ON\n",
    "    p.production_company_id = mp.production_company_id\n",
    "JOIN \n",
    "    movies as m\n",
    "ON \n",
    "    m.movie_id = mp.movie_id \n",
    "GROUP BY \n",
    "    p.production_company_name\n",
    "ORDER BY \n",
    "     avg(m.popularity) DESC\n",
    "limit 5"
   ]
  },
  {
   "cell_type": "code",
   "execution_count": 75,
   "id": "1732b6fa-dd6b-477b-a573-29c2d7219d27",
   "metadata": {},
   "outputs": [
    {
     "name": "stdout",
     "output_type": "stream",
     "text": [
      " * sqlite:///C:\\Users\\User\\Desktop\\sql/TMDB-a-4006.db\n",
      "Done.\n"
     ]
    },
    {
     "data": {
      "text/html": [
       "<table>\n",
       "    <tr>\n",
       "        <th>count(actor_name)</th>\n",
       "    </tr>\n",
       "    <tr>\n",
       "        <td>355</td>\n",
       "    </tr>\n",
       "</table>"
      ],
      "text/plain": [
       "[(355,)]"
      ]
     },
     "execution_count": 75,
     "metadata": {},
     "output_type": "execute_result"
    }
   ],
   "source": [
    "%%sql\n",
    "-- 10. How many female actors (i.e. gender = 1) have a name that starts with the letter \"N\"?\n",
    "SELECT \n",
    "    count(actor_name)\n",
    "FROM actors\n",
    "WHERE \n",
    "    gender = 1\n",
    "AND \n",
    "    actor_name LIKE \"N%\"\n",
    "limit 5\n"
   ]
  },
  {
   "cell_type": "code",
   "execution_count": 76,
   "id": "475e4a8a-74a3-4265-aa9f-78f93c223d7d",
   "metadata": {},
   "outputs": [
    {
     "name": "stdout",
     "output_type": "stream",
     "text": [
      " * sqlite:///C:\\Users\\User\\Desktop\\sql/TMDB-a-4006.db\n",
      "Done.\n"
     ]
    },
    {
     "data": {
      "text/html": [
       "<table>\n",
       "    <tr>\n",
       "        <th>genre_name</th>\n",
       "        <th>avg(m.popularity)</th>\n",
       "    </tr>\n",
       "    <tr>\n",
       "        <td>Foreign</td>\n",
       "        <td>0.686786794117647</td>\n",
       "    </tr>\n",
       "    <tr>\n",
       "        <td>Documentary</td>\n",
       "        <td>3.9457238090909095</td>\n",
       "    </tr>\n",
       "    <tr>\n",
       "        <td>TV Movie</td>\n",
       "        <td>6.389414749999999</td>\n",
       "    </tr>\n",
       "    <tr>\n",
       "        <td>Music</td>\n",
       "        <td>13.101512475675674</td>\n",
       "    </tr>\n",
       "    <tr>\n",
       "        <td>Romance</td>\n",
       "        <td>15.962426457494407</td>\n",
       "    </tr>\n",
       "</table>"
      ],
      "text/plain": [
       "[('Foreign', 0.686786794117647),\n",
       " ('Documentary', 3.9457238090909095),\n",
       " ('TV Movie', 6.389414749999999),\n",
       " ('Music', 13.101512475675674),\n",
       " ('Romance', 15.962426457494407)]"
      ]
     },
     "execution_count": 76,
     "metadata": {},
     "output_type": "execute_result"
    }
   ],
   "source": [
    "%%sql\n",
    "-- 11. Which genre has, on average, the lowest movie popularity score?\n",
    "SELECT \n",
    "    ge.genre_name,\n",
    "    avg(m.popularity)\n",
    "FROM\n",
    "    genres as ge\n",
    "JOIN \n",
    "    genremap as gmp\n",
    "ON\n",
    "    ge.genre_id = gmp.genre_id\n",
    "JOIN \n",
    "    movies as m\n",
    "ON\n",
    "    m.movie_id = gmp.movie_id\n",
    "GROUP BY genre_name\n",
    "ORDER BY \n",
    "    avg(m.popularity) ASC\n",
    "limit 5"
   ]
  },
  {
   "cell_type": "code",
   "execution_count": 77,
   "id": "1f3cbb2a-d06c-4a43-9420-62a81f38c3c5",
   "metadata": {},
   "outputs": [
    {
     "name": "stdout",
     "output_type": "stream",
     "text": [
      " * sqlite:///C:\\Users\\User\\Desktop\\sql/TMDB-a-4006.db\n",
      "Done.\n"
     ]
    },
    {
     "data": {
      "text/html": [
       "<table>\n",
       "    <tr>\n",
       "        <th>award</th>\n",
       "        <th>s</th>\n",
       "    </tr>\n",
       "    <tr>\n",
       "        <td>Honorary Award</td>\n",
       "        <td>110.0</td>\n",
       "    </tr>\n",
       "    <tr>\n",
       "        <td>Directing</td>\n",
       "        <td>88.0</td>\n",
       "    </tr>\n",
       "    <tr>\n",
       "        <td>Film Editing</td>\n",
       "        <td>83.0</td>\n",
       "    </tr>\n",
       "    <tr>\n",
       "        <td>Actress in a Supporting Role</td>\n",
       "        <td>81.0</td>\n",
       "    </tr>\n",
       "    <tr>\n",
       "        <td>Actor in a Supporting Role</td>\n",
       "        <td>80.0</td>\n",
       "    </tr>\n",
       "</table>"
      ],
      "text/plain": [
       "[('Honorary Award', 110.0),\n",
       " ('Directing', 88.0),\n",
       " ('Film Editing', 83.0),\n",
       " ('Actress in a Supporting Role', 81.0),\n",
       " ('Actor in a Supporting Role', 80.0)]"
      ]
     },
     "execution_count": 77,
     "metadata": {},
     "output_type": "execute_result"
    }
   ],
   "source": [
    "%%sql\n",
    "-- 12. Which award category has the highest number of actor nominations \n",
    "SELECT \n",
    "    award,\n",
    "    sum(winner) as s\n",
    "FROM oscars\n",
    "WHERE winner in (\n",
    "    1.0,2.0\n",
    ")\n",
    "GROUP BY award \n",
    "ORDER BY s DESC\n",
    "limit 5"
   ]
  }
 ],
 "metadata": {
  "kernelspec": {
   "display_name": "Python 3 (ipykernel)",
   "language": "python",
   "name": "python3"
  },
  "language_info": {
   "codemirror_mode": {
    "name": "ipython",
    "version": 3
   },
   "file_extension": ".py",
   "mimetype": "text/x-python",
   "name": "python",
   "nbconvert_exporter": "python",
   "pygments_lexer": "ipython3",
   "version": "3.11.13"
  }
 },
 "nbformat": 4,
 "nbformat_minor": 5
}
